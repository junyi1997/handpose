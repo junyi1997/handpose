{
 "cells": [
  {
   "cell_type": "code",
   "execution_count": 3,
   "metadata": {},
   "outputs": [
    {
     "name": "stderr",
     "output_type": "stream",
     "text": [
      "/home/shared/anaconda3/lib/python3.6/site-packages/h5py/__init__.py:36: FutureWarning: Conversion of the second argument of issubdtype from `float` to `np.floating` is deprecated. In future, it will be treated as `np.float64 == np.dtype(float).type`.\n",
      "  from ._conv import register_converters as _register_converters\n"
     ]
    }
   ],
   "source": [
    "import cv2\n",
    "import utils\n",
    "import numpy as np\n",
    "import math\n",
    "import tensorflow as tf\n",
    "import time\n",
    "import random\n",
    "import os\n",
    "import json\n",
    "from pprint import pprint\n",
    "import Detector as dt\n",
    "from config import FLAGS"
   ]
  },
  {
   "cell_type": "code",
   "execution_count": 13,
   "metadata": {},
   "outputs": [],
   "source": [
    "tfr_file = 'tiny_train.tfrecords'\n",
    "SHOW_INFO = False\n",
    "gaussian_radius = 2\n",
    "# Create writer\n",
    "# def _bytes_feature(value):\n",
    "#     return tf.train.Feature(bytes_list=tf.train.BytesList(value=[value]))\n",
    "\n",
    "\n",
    "# def _int64_feature(value):\n",
    "#     return tf.train.Feature(int64_list=tf.train.Int64List(value=[value]))\n",
    "\n",
    "\n",
    "# def _float64_feature(value):\n",
    "#     return tf.train.Feature(float_list=tf.train.FloatList(value=value))"
   ]
  },
  {
   "cell_type": "code",
   "execution_count": 14,
   "metadata": {},
   "outputs": [],
   "source": [
    "writer = tf.python_io.TFRecordWriter(tfr_file)"
   ]
  },
  {
   "cell_type": "code",
   "execution_count": 6,
   "metadata": {},
   "outputs": [],
   "source": [
    "base_dir = \"/home/qiaohe/hand_pose\"\n",
    "json_file = os.path.join(base_dir, 'annotation.json')\n",
    "csv_file = os.path.join(base_dir, 'hand_labels.csv')\n",
    "segment_length = 20\n",
    "image_dir = os.path.join(base_dir, 'Color')\n",
    "\n",
    "\n",
    "\n",
    "#img_count = 0\n",
    "#t1 = time.time()\n",
    "with open(json_file) as f:\n",
    "    content = json.load(f)\n",
    "#pprint(f)"
   ]
  },
  {
   "cell_type": "code",
   "execution_count": 7,
   "metadata": {},
   "outputs": [],
   "source": [
    "img_list = os.listdir(image_dir)\n",
    "img_name = [img[:-4] for img in img_list]\n",
    "split_ratio = 0.9"
   ]
  },
  {
   "cell_type": "code",
   "execution_count": 8,
   "metadata": {},
   "outputs": [],
   "source": [
    "#train_index = np.random.choice(len(img_list), size=int(len(img_list)*split_ratio), replace=False)\n",
    "#test_index = np.setdiff1d(list(range(len(img_list))), train_index)"
   ]
  },
  {
   "cell_type": "code",
   "execution_count": 48,
   "metadata": {},
   "outputs": [
    {
     "name": "stdout",
     "output_type": "stream",
     "text": [
      "(51486,) (5721,) 57207\n",
      "[42247  1581 23824 ... 27802 52469  6148] [    6     9    20 ... 57195 57196 57203]\n"
     ]
    }
   ],
   "source": [
    "print(train_index.shape, test_index.shape, len(img_list))\n",
    "print(train_index, test_index)"
   ]
  },
  {
   "cell_type": "code",
   "execution_count": 49,
   "metadata": {},
   "outputs": [
    {
     "data": {
      "text/plain": [
       "array([ True,  True,  True, ...,  True,  True,  True])"
      ]
     },
     "execution_count": 49,
     "metadata": {},
     "output_type": "execute_result"
    }
   ],
   "source": [
    "np.unique(test_index) == sorted(test_index)"
   ]
  },
  {
   "cell_type": "code",
   "execution_count": 9,
   "metadata": {},
   "outputs": [],
   "source": [
    "# later change this to import from prediction\n",
    "def record_boundary(index, direction,padding, height, width):\n",
    "    name = img_name[index]+direction\n",
    "    xy = np.array(content[name])\n",
    "    x_arr = xy[:,0]\n",
    "    y_arr = xy[:,1]\n",
    "    x_max = max(x_arr) #+ segment_length\n",
    "    y_max = max(y_arr) #+ segment_length\n",
    "    x_min = min(x_arr) #- segment_length\n",
    "    y_min = min(y_arr) #- segment_length\n",
    "    #print(\"Original was: \", x_min, y_min, x_max, y_max, \" with height \", height, \" and width \", width)\n",
    "    return dt.adjust_bound_box(x_min, y_min, x_max, y_max, padding, height, width)\n",
    "\n",
    "def draw_hand(canvas, joint): \n",
    "    for i in range(len(joint)):\n",
    "        cv2.circle(canvas, (int(joint[i][0]),int(joint[i][1])), 4, FLAGS.joint_color_code[i], thickness=-1)"
   ]
  },
  {
   "cell_type": "code",
   "execution_count": 15,
   "metadata": {},
   "outputs": [
    {
     "name": "stdout",
     "output_type": "stream",
     "text": [
      "All finished 0.36141037940979004\n"
     ]
    }
   ],
   "source": [
    "t1 = time.time()\n",
    "t0 = time.time()\n",
    "for idx, img in enumerate(img_list[:10]):\n",
    "    if (idx + 1) % 500 == 0:\n",
    "        print(idx, \" finished\", time.time() - t1)\n",
    "        t1 = time.time()\n",
    "# cnt = 0\n",
    "# for idx in test_index:\n",
    "#     img = img_list[idx]\n",
    "#     if (cnt + 1) % 500 == 0:\n",
    "#         print(cnt + 1, \" finished\", time.time() - t1)\n",
    "#         t1 = time.time()\n",
    "#     cnt += 1\n",
    "    cur_img = cv2.imread(os.path.join(image_dir, img))\n",
    "    height, width, _ = cur_img .shape\n",
    "    hands = []\n",
    "    if img_name[idx] + \"_R\" in content:\n",
    "        hands.append((content[img_name[idx] + \"_R\"], \"_R\"))\n",
    "    if img_name[idx] + \"_L\" in content:\n",
    "        hands.append((content[img_name[idx] + \"_L\"], \"_L\"))\n",
    "    \n",
    "    for line, direction in hands:\n",
    "        joints_x = [float(i[0]) for i in line] \n",
    "        joints_y = [float(i[1]) for i in line] \n",
    "        bbox = record_boundary(idx, direction, FLAGS.padding, height, width)\n",
    "        cur_img_new = cur_img[bbox[1]:bbox[3],bbox[0]:bbox[2],\n",
    "          :]\n",
    "        joints_x = np.array(joints_x) - bbox[0] #[x - bbox[0] for x in joints_x]\n",
    "        joints_y = np.array(joints_y) - bbox[1] #[x - bbox[1] for x in joints_y]\n",
    "        \n",
    "        #output_image = np.ones(shape=(box_size, box_size, 3)) * 128\n",
    "        output_heatmaps = np.zeros((FLAGS.box_size, FLAGS.box_size, FLAGS.total_joints))\n",
    "        scale = FLAGS.box_size / (cur_img_new.shape[1] * 1.0)\n",
    "        joints_x *= scale #list(map(lambda x: x * scale, joints_x))\n",
    "        joints_y *= scale #list(map(lambda x: x * scale, joints_y))\n",
    "        \n",
    "        output_image = cv2.resize(cur_img_new, (0, 0), fx=scale, fy=scale, interpolation=cv2.INTER_LANCZOS4)\n",
    "        #INTER_LANCZOS4: a Lanczos interpolation over 8x8 pixel neighborhood\n",
    "#         offset = image.shape[0] % 2\n",
    "#         #print(box_size, (image.shape[0]))\n",
    "#         output_image[int(box_size / 2 - math.floor(image.shape[0] / 2)): int(\n",
    "#             box_size / 2 + math.floor(image.shape[0] / 2) + offset), :, :] = image\n",
    "        \n",
    "#         joints_y += box_size / 2 - math.floor(image.shape[0] / 2) #list(map(lambda x: x + (box_size / 2 - math.floor(image.shape[0] / 2)),joints_y))\n",
    "#         #joints_x = np.asarray(joints_x)\n",
    "#         #joints_y = np.asarray(joints_y)\n",
    "        \n",
    "        for i in range(FLAGS.total_joints):\n",
    "            output_heatmaps[:, :, i] = dt.make_2d_gaussian_map(FLAGS.box_size, gaussian_radius,\n",
    "                                                     [joints_x[i], joints_y[i]])\n",
    "        \n",
    "        output_coords = np.zeros(FLAGS.total_joints * 2)\n",
    "        output_coords[::2] = joints_x\n",
    "        output_coords[1::2] = joints_y\n",
    "        #output_coords = output_coords.tolist()\n",
    "        \n",
    "        #output_background_map = np.ones((box_size, box_size)) - np.amax(output_heatmaps, axis=2)\n",
    "        #output_heatmaps_with_bg = np.concatenate((output_heatmaps, output_background_map.reshape((box_size, box_size, 1))), axis=2)\n",
    "        #output_image_raw = output_image.astype(np.uint8).tostring()\n",
    "        #print(output_image.shape)\n",
    "        \n",
    "        single_sample = tf.train.Example(features=tf.train.Features(feature={\n",
    "            'image': tf.train.Feature(bytes_list=tf.train.BytesList(value=[output_image.astype(np.uint8).tostring()])),\n",
    "            'joint': tf.train.Feature(float_list=tf.train.FloatList(value=output_coords.tolist()))\n",
    "        }))\n",
    "        writer.write(single_sample.SerializeToString())\n",
    "print(\"All finished\", time.time() - t0)"
   ]
  },
  {
   "cell_type": "code",
   "execution_count": 16,
   "metadata": {},
   "outputs": [],
   "source": [
    "writer.close()"
   ]
  },
  {
   "cell_type": "code",
   "execution_count": 6,
   "metadata": {},
   "outputs": [
    {
     "name": "stdout",
     "output_type": "stream",
     "text": [
      "All finished 3.472964286804199\n"
     ]
    }
   ],
   "source": [
    "# t1 = time.time()\n",
    "# t0 = time.time()\n",
    "# img_list = np.array(img_list)\n",
    "# cnt = 0\n",
    "# for idx, img in enumerate(img_list[:100]):\n",
    "# # for idx in test_index:\n",
    "# #     img = img_list[idx]\n",
    "# #     if (cnt + 1) % 500 == 0:\n",
    "# #         print(cnt + 1, \" finished\", time.time() - t1)\n",
    "# #         t1 = time.time()\n",
    "# #     cnt += 1\n",
    "# #    cur_img = cv2.imread(os.path.join(image_dir, img))\n",
    "#     cur_img = cv2.imread(os.path.join(image_dir, img))\n",
    "#     height, width, _ = cur_img .shape\n",
    "#     hands = []\n",
    "#     if img_name[idx] + \"_R\" in gt_content:\n",
    "#         hands.append((gt_content[img_name[idx] + \"_R\"], \"_R\"))\n",
    "#     if img_name[idx] + \"_L\" in gt_content:\n",
    "#         hands.append((gt_content[img_name[idx] + \"_L\"], \"_L\"))\n",
    "    \n",
    "#     for line, direction in hands:\n",
    "#         cur_hand_joints_x = [float(i[0]) for i in line] \n",
    "#         cur_hand_joints_y = [float(i[1]) for i in line] \n",
    "#         cur_hand_bbox = record_boundary(idx, direction, padding, height, width)\n",
    "#         cur_img_new = cur_img[cur_hand_bbox[1]:cur_hand_bbox[3],\n",
    "#           cur_hand_bbox[0]:cur_hand_bbox[2],\n",
    "#           :]\n",
    "#         cur_hand_joints_x = [x - cur_hand_bbox[0] for x in cur_hand_joints_x]\n",
    "#         cur_hand_joints_y = [x - cur_hand_bbox[1] for x in cur_hand_joints_y]\n",
    "        \n",
    "#         output_image = np.ones(shape=(box_size, box_size, 3)) * 128\n",
    "#         output_heatmaps = np.zeros((box_size, box_size, num_of_joints))\n",
    "#         scale = box_size / (cur_img_new.shape[1] * 1.0)\n",
    "#         cur_hand_joints_x = list(map(lambda x: x * scale, cur_hand_joints_x))\n",
    "#         cur_hand_joints_y = list(map(lambda x: x * scale, cur_hand_joints_y))\n",
    "        \n",
    "#         image = cv2.resize(cur_img_new, (0, 0), fx=scale, fy=scale, interpolation=cv2.INTER_LANCZOS4)\n",
    "#         offset = image.shape[0] % 2\n",
    "#         output_image[int(box_size / 2 - math.floor(image.shape[0] / 2)): int(\n",
    "#             box_size / 2 + math.floor(image.shape[0] / 2) + offset), :, :] = image\n",
    "        \n",
    "#         cur_hand_joints_y = list(map(lambda x: x + (box_size / 2 - math.floor(image.shape[0] / 2)),\n",
    "#                         cur_hand_joints_y))\n",
    "#         cur_hand_joints_x = np.asarray(cur_hand_joints_x)\n",
    "#         cur_hand_joints_y = np.asarray(cur_hand_joints_y)\n",
    "        \n",
    "#         for i in range(num_of_joints):\n",
    "#             output_heatmaps[:, :, i] = make_gaussian(box_size, gaussian_radius,\n",
    "#                                                      [cur_hand_joints_x[i], cur_hand_joints_y[i]])\n",
    "        \n",
    "#         output_coords_raw = np.zeros(num_of_joints * 2)\n",
    "#         output_coords_raw[::2] = cur_hand_joints_x\n",
    "#         output_coords_raw[1::2] = cur_hand_joints_y\n",
    "#         output_coords_raw = output_coords_raw.tolist()\n",
    "        \n",
    "#         output_background_map = np.ones((box_size, box_size)) - np.amax(output_heatmaps, axis=2)\n",
    "#         #output_heatmaps_with_bg = np.concatenate((output_heatmaps, output_background_map.reshape((box_size, box_size, 1))), axis=2)\n",
    "#         output_image_raw = output_image.astype(np.uint8).tostring()\n",
    "        \n",
    "#         raw_sample = tf.train.Example(features=tf.train.Features(feature={\n",
    "#             'image': _bytes_feature(output_image_raw),\n",
    "#             #'heatmaps': _float64_feature(output_heatmaps_raw)\n",
    "#             'joint': _float64_feature(output_coords_raw)\n",
    "#         }))\n",
    "        \n",
    "#         tfr_writer.write(raw_sample.SerializeToString())\n",
    "# print(\"All finished\", time.time() - t0)"
   ]
  },
  {
   "cell_type": "code",
   "execution_count": 7,
   "metadata": {},
   "outputs": [],
   "source": []
  },
  {
   "cell_type": "code",
   "execution_count": null,
   "metadata": {},
   "outputs": [],
   "source": []
  },
  {
   "cell_type": "code",
   "execution_count": null,
   "metadata": {},
   "outputs": [],
   "source": []
  }
 ],
 "metadata": {
  "kernelspec": {
   "display_name": "Python 3",
   "language": "python",
   "name": "python3"
  },
  "language_info": {
   "codemirror_mode": {
    "name": "ipython",
    "version": 3
   },
   "file_extension": ".py",
   "mimetype": "text/x-python",
   "name": "python",
   "nbconvert_exporter": "python",
   "pygments_lexer": "ipython3",
   "version": "3.6.4"
  }
 },
 "nbformat": 4,
 "nbformat_minor": 2
}
